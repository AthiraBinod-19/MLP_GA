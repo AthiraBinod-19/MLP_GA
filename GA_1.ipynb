{
  "nbformat": 4,
  "nbformat_minor": 0,
  "metadata": {
    "colab": {
      "provenance": [],
      "authorship_tag": "ABX9TyOpMH6vOMsANouhh3GugJJx",
      "include_colab_link": true
    },
    "kernelspec": {
      "name": "python3",
      "display_name": "Python 3"
    },
    "language_info": {
      "name": "python"
    }
  },
  "cells": [
    {
      "cell_type": "markdown",
      "metadata": {
        "id": "view-in-github",
        "colab_type": "text"
      },
      "source": [
        "<a href=\"https://colab.research.google.com/github/AthiraBinod-19/MLP_GA/blob/main/GA_1.ipynb\" target=\"_parent\"><img src=\"https://colab.research.google.com/assets/colab-badge.svg\" alt=\"Open In Colab\"/></a>"
      ]
    },
    {
      "cell_type": "code",
      "execution_count": null,
      "metadata": {
        "colab": {
          "base_uri": "https://localhost:8080/",
          "height": 90
        },
        "id": "uU9PTPJze6QW",
        "outputId": "749af637-89eb-4ef8-c67f-7da26b219e66"
      },
      "outputs": [
        {
          "output_type": "display_data",
          "data": {
            "text/plain": [
              "<IPython.core.display.HTML object>"
            ],
            "text/html": [
              "\n",
              "     <input type=\"file\" id=\"files-a25c3303-1376-41f0-9858-3ac5f8491b23\" name=\"files[]\" multiple disabled\n",
              "        style=\"border:none\" />\n",
              "     <output id=\"result-a25c3303-1376-41f0-9858-3ac5f8491b23\">\n",
              "      Upload widget is only available when the cell has been executed in the\n",
              "      current browser session. Please rerun this cell to enable.\n",
              "      </output>\n",
              "      <script>// Copyright 2017 Google LLC\n",
              "//\n",
              "// Licensed under the Apache License, Version 2.0 (the \"License\");\n",
              "// you may not use this file except in compliance with the License.\n",
              "// You may obtain a copy of the License at\n",
              "//\n",
              "//      http://www.apache.org/licenses/LICENSE-2.0\n",
              "//\n",
              "// Unless required by applicable law or agreed to in writing, software\n",
              "// distributed under the License is distributed on an \"AS IS\" BASIS,\n",
              "// WITHOUT WARRANTIES OR CONDITIONS OF ANY KIND, either express or implied.\n",
              "// See the License for the specific language governing permissions and\n",
              "// limitations under the License.\n",
              "\n",
              "/**\n",
              " * @fileoverview Helpers for google.colab Python module.\n",
              " */\n",
              "(function(scope) {\n",
              "function span(text, styleAttributes = {}) {\n",
              "  const element = document.createElement('span');\n",
              "  element.textContent = text;\n",
              "  for (const key of Object.keys(styleAttributes)) {\n",
              "    element.style[key] = styleAttributes[key];\n",
              "  }\n",
              "  return element;\n",
              "}\n",
              "\n",
              "// Max number of bytes which will be uploaded at a time.\n",
              "const MAX_PAYLOAD_SIZE = 100 * 1024;\n",
              "\n",
              "function _uploadFiles(inputId, outputId) {\n",
              "  const steps = uploadFilesStep(inputId, outputId);\n",
              "  const outputElement = document.getElementById(outputId);\n",
              "  // Cache steps on the outputElement to make it available for the next call\n",
              "  // to uploadFilesContinue from Python.\n",
              "  outputElement.steps = steps;\n",
              "\n",
              "  return _uploadFilesContinue(outputId);\n",
              "}\n",
              "\n",
              "// This is roughly an async generator (not supported in the browser yet),\n",
              "// where there are multiple asynchronous steps and the Python side is going\n",
              "// to poll for completion of each step.\n",
              "// This uses a Promise to block the python side on completion of each step,\n",
              "// then passes the result of the previous step as the input to the next step.\n",
              "function _uploadFilesContinue(outputId) {\n",
              "  const outputElement = document.getElementById(outputId);\n",
              "  const steps = outputElement.steps;\n",
              "\n",
              "  const next = steps.next(outputElement.lastPromiseValue);\n",
              "  return Promise.resolve(next.value.promise).then((value) => {\n",
              "    // Cache the last promise value to make it available to the next\n",
              "    // step of the generator.\n",
              "    outputElement.lastPromiseValue = value;\n",
              "    return next.value.response;\n",
              "  });\n",
              "}\n",
              "\n",
              "/**\n",
              " * Generator function which is called between each async step of the upload\n",
              " * process.\n",
              " * @param {string} inputId Element ID of the input file picker element.\n",
              " * @param {string} outputId Element ID of the output display.\n",
              " * @return {!Iterable<!Object>} Iterable of next steps.\n",
              " */\n",
              "function* uploadFilesStep(inputId, outputId) {\n",
              "  const inputElement = document.getElementById(inputId);\n",
              "  inputElement.disabled = false;\n",
              "\n",
              "  const outputElement = document.getElementById(outputId);\n",
              "  outputElement.innerHTML = '';\n",
              "\n",
              "  const pickedPromise = new Promise((resolve) => {\n",
              "    inputElement.addEventListener('change', (e) => {\n",
              "      resolve(e.target.files);\n",
              "    });\n",
              "  });\n",
              "\n",
              "  const cancel = document.createElement('button');\n",
              "  inputElement.parentElement.appendChild(cancel);\n",
              "  cancel.textContent = 'Cancel upload';\n",
              "  const cancelPromise = new Promise((resolve) => {\n",
              "    cancel.onclick = () => {\n",
              "      resolve(null);\n",
              "    };\n",
              "  });\n",
              "\n",
              "  // Wait for the user to pick the files.\n",
              "  const files = yield {\n",
              "    promise: Promise.race([pickedPromise, cancelPromise]),\n",
              "    response: {\n",
              "      action: 'starting',\n",
              "    }\n",
              "  };\n",
              "\n",
              "  cancel.remove();\n",
              "\n",
              "  // Disable the input element since further picks are not allowed.\n",
              "  inputElement.disabled = true;\n",
              "\n",
              "  if (!files) {\n",
              "    return {\n",
              "      response: {\n",
              "        action: 'complete',\n",
              "      }\n",
              "    };\n",
              "  }\n",
              "\n",
              "  for (const file of files) {\n",
              "    const li = document.createElement('li');\n",
              "    li.append(span(file.name, {fontWeight: 'bold'}));\n",
              "    li.append(span(\n",
              "        `(${file.type || 'n/a'}) - ${file.size} bytes, ` +\n",
              "        `last modified: ${\n",
              "            file.lastModifiedDate ? file.lastModifiedDate.toLocaleDateString() :\n",
              "                                    'n/a'} - `));\n",
              "    const percent = span('0% done');\n",
              "    li.appendChild(percent);\n",
              "\n",
              "    outputElement.appendChild(li);\n",
              "\n",
              "    const fileDataPromise = new Promise((resolve) => {\n",
              "      const reader = new FileReader();\n",
              "      reader.onload = (e) => {\n",
              "        resolve(e.target.result);\n",
              "      };\n",
              "      reader.readAsArrayBuffer(file);\n",
              "    });\n",
              "    // Wait for the data to be ready.\n",
              "    let fileData = yield {\n",
              "      promise: fileDataPromise,\n",
              "      response: {\n",
              "        action: 'continue',\n",
              "      }\n",
              "    };\n",
              "\n",
              "    // Use a chunked sending to avoid message size limits. See b/62115660.\n",
              "    let position = 0;\n",
              "    do {\n",
              "      const length = Math.min(fileData.byteLength - position, MAX_PAYLOAD_SIZE);\n",
              "      const chunk = new Uint8Array(fileData, position, length);\n",
              "      position += length;\n",
              "\n",
              "      const base64 = btoa(String.fromCharCode.apply(null, chunk));\n",
              "      yield {\n",
              "        response: {\n",
              "          action: 'append',\n",
              "          file: file.name,\n",
              "          data: base64,\n",
              "        },\n",
              "      };\n",
              "\n",
              "      let percentDone = fileData.byteLength === 0 ?\n",
              "          100 :\n",
              "          Math.round((position / fileData.byteLength) * 100);\n",
              "      percent.textContent = `${percentDone}% done`;\n",
              "\n",
              "    } while (position < fileData.byteLength);\n",
              "  }\n",
              "\n",
              "  // All done.\n",
              "  yield {\n",
              "    response: {\n",
              "      action: 'complete',\n",
              "    }\n",
              "  };\n",
              "}\n",
              "\n",
              "scope.google = scope.google || {};\n",
              "scope.google.colab = scope.google.colab || {};\n",
              "scope.google.colab._files = {\n",
              "  _uploadFiles,\n",
              "  _uploadFilesContinue,\n",
              "};\n",
              "})(self);\n",
              "</script> "
            ]
          },
          "metadata": {}
        },
        {
          "output_type": "stream",
          "name": "stdout",
          "text": [
            "Saving Week1_GA_dataset.csv to Week1_GA_dataset.csv\n",
            "Uploaded: Week1_GA_dataset.csv\n"
          ]
        }
      ],
      "source": [
        "from google.colab import files\n",
        "uploaded = files.upload()                # choose the CSV file in the dialog\n",
        "filename = list(uploaded.keys())[0]\n",
        "print(\"Uploaded:\", filename)\n"
      ]
    },
    {
      "cell_type": "code",
      "source": [
        "import pandas as pd\n",
        "import numpy as np\n",
        "\n",
        "# Step 1: Load CSV file\n",
        "df = pd.read_csv(\"Week1_GA_dataset.csv\")\n",
        "\n",
        "# Show shape (should be (10000, 12))\n",
        "print(\"Shape of dataset:\", df.shape)\n",
        "\n",
        "# Step 2: Count \"?\" values\n",
        "question_marks_count = (df == \"?\").sum().sum()\n",
        "print(\"Total '?' values in the dataset:\", question_marks_count)\n",
        "\n",
        "# Column-wise count of \"?\"\n",
        "print(\"\\nColumn-wise '?' counts:\\n\", (df == \"?\").sum())\n",
        "\n",
        "# Step 3: Replace \"?\" with NaN\n",
        "df = df.replace(\"?\", np.nan)\n",
        "\n",
        "# Confirm replacement worked\n",
        "print(\"\\nAny '?' left?:\", (df == \"?\").any().any())\n",
        "\n",
        "# Show how many NaN values are now in dataset\n",
        "print(\"Total NaN values:\", df.isna().sum().sum())\n",
        "print(\"\\nColumn-wise NaN counts:\\n\", df.isna().sum())\n"
      ],
      "metadata": {
        "colab": {
          "base_uri": "https://localhost:8080/"
        },
        "id": "31RkHcewgUVR",
        "outputId": "56560745-8155-4558-a8a6-fdf5dea40cae"
      },
      "execution_count": null,
      "outputs": [
        {
          "output_type": "stream",
          "name": "stdout",
          "text": [
            "Shape of dataset: (10000, 12)\n",
            "Total '?' values in the dataset: 1823\n",
            "\n",
            "Column-wise '?' counts:\n",
            " Date                    0\n",
            "Year                    0\n",
            "Locality                0\n",
            "Estimated Value         0\n",
            "Sale Price              0\n",
            "Property             1823\n",
            "Residential             0\n",
            "num_rooms               0\n",
            "num_bathrooms           0\n",
            "carpet_area             0\n",
            "property_tax_rate       0\n",
            "Face                    0\n",
            "dtype: int64\n",
            "\n",
            "Any '?' left?: False\n",
            "Total NaN values: 5548\n",
            "\n",
            "Column-wise NaN counts:\n",
            " Date                    0\n",
            "Year                    0\n",
            "Locality             1253\n",
            "Estimated Value      1243\n",
            "Sale Price              0\n",
            "Property             1823\n",
            "Residential             0\n",
            "num_rooms               0\n",
            "num_bathrooms           0\n",
            "carpet_area          1229\n",
            "property_tax_rate       0\n",
            "Face                    0\n",
            "dtype: int64\n"
          ]
        }
      ]
    },
    {
      "cell_type": "code",
      "source": [
        "import pandas as pd\n",
        "\n",
        "# Load the dataset (already done earlier, but adding for completeness)\n",
        "df = pd.read_csv(\"Week1_GA_dataset.csv\", na_values=['?'])\n",
        "\n",
        "# Show the shape\n",
        "print(\"Shape of dataset:\", df.shape)\n",
        "\n",
        "# Optional: print rows and columns separately\n",
        "print(\"Number of rows:\", df.shape[0])\n",
        "print(\"Number of columns:\", df.shape[1])\n"
      ],
      "metadata": {
        "colab": {
          "base_uri": "https://localhost:8080/"
        },
        "id": "3MTIuKAcg-mK",
        "outputId": "cbd28ce1-a6e6-4abe-dd41-2a1b17c4b52f"
      },
      "execution_count": null,
      "outputs": [
        {
          "output_type": "stream",
          "name": "stdout",
          "text": [
            "Shape of dataset: (10000, 12)\n",
            "Number of rows: 10000\n",
            "Number of columns: 12\n"
          ]
        }
      ]
    },
    {
      "cell_type": "code",
      "source": [
        "# Value at 692nd row and 0th column\n",
        "value = df.iloc[692, 0]\n",
        "print(\"Value at row 692 and column 0:\", value)\n"
      ],
      "metadata": {
        "colab": {
          "base_uri": "https://localhost:8080/"
        },
        "id": "xDWiA6DyhO1q",
        "outputId": "83bb73c1-9878-4780-c865-eeeed323c307"
      },
      "execution_count": null,
      "outputs": [
        {
          "output_type": "stream",
          "name": "stdout",
          "text": [
            "Value at row 692 and column 0: 2009-11-16\n"
          ]
        }
      ]
    },
    {
      "cell_type": "code",
      "source": [
        "# Value at 546th row and 7th column\n",
        "value = df.iloc[546, 7]\n",
        "print(\"Value at row 546 and column 7:\", value)\n",
        "\n",
        "# (Optional) also show the column name for clarity\n",
        "col_name = df.columns[7]\n",
        "print(f\"Column name: {col_name}, Value: {value}\")\n"
      ],
      "metadata": {
        "colab": {
          "base_uri": "https://localhost:8080/"
        },
        "id": "kBToLn0phZMQ",
        "outputId": "c7621511-8d1c-47f5-f95a-af26232828f3"
      },
      "execution_count": null,
      "outputs": [
        {
          "output_type": "stream",
          "name": "stdout",
          "text": [
            "Value at row 546 and column 7: 3\n",
            "Column name: num_rooms, Value: 3\n"
          ]
        }
      ]
    },
    {
      "cell_type": "code",
      "source": [
        "# Unique values in 'Locality'\n",
        "unique_localities = df['Locality'].unique()\n",
        "print(\"Unique Localities:\\n\", unique_localities)\n",
        "\n",
        "# Count of unique values\n",
        "print(\"\\nNumber of unique Localities:\", df['Locality'].nunique())\n"
      ],
      "metadata": {
        "colab": {
          "base_uri": "https://localhost:8080/"
        },
        "id": "d9tEYPighqKd",
        "outputId": "15cf2cdd-b7af-4246-d061-dc8a2be92521"
      },
      "execution_count": null,
      "outputs": [
        {
          "output_type": "stream",
          "name": "stdout",
          "text": [
            "Unique Localities:\n",
            " ['Waterbury' 'Bridgeport' 'Greenwich' 'Norwalk' nan 'Fairfield'\n",
            " 'West Hartford' 'Stamford']\n",
            "\n",
            "Number of unique Localities: 7\n"
          ]
        }
      ]
    },
    {
      "cell_type": "code",
      "source": [
        "# Check which columns have missing values\n",
        "missing_cols = df.isna().sum()\n",
        "\n",
        "# Show only columns with missing values\n",
        "missing_cols = missing_cols[missing_cols > 0]\n",
        "print(\"Columns with missing values:\\n\", missing_cols)\n"
      ],
      "metadata": {
        "colab": {
          "base_uri": "https://localhost:8080/"
        },
        "id": "T5xkH3SriCFe",
        "outputId": "26303e77-4bd6-40e0-8199-0d8007f321ea"
      },
      "execution_count": null,
      "outputs": [
        {
          "output_type": "stream",
          "name": "stdout",
          "text": [
            "Columns with missing values:\n",
            " Locality           1253\n",
            "Estimated Value    1243\n",
            "Property           1823\n",
            "carpet_area        1229\n",
            "dtype: int64\n"
          ]
        }
      ]
    },
    {
      "cell_type": "code",
      "source": [
        "# Column with most missing values\n",
        "missing_counts = df.isna().sum()\n",
        "max_missing_col = missing_counts.idxmax()\n",
        "max_missing_val = missing_counts.max()\n",
        "\n",
        "print(f\"Feature with most missing values: {max_missing_col} ({max_missing_val} missing)\")\n"
      ],
      "metadata": {
        "colab": {
          "base_uri": "https://localhost:8080/"
        },
        "id": "0r2yjDMgilMu",
        "outputId": "3792d58c-4c17-4695-8ed3-8031c4d7a448"
      },
      "execution_count": null,
      "outputs": [
        {
          "output_type": "stream",
          "name": "stdout",
          "text": [
            "Feature with most missing values: Property (1823 missing)\n"
          ]
        }
      ]
    },
    {
      "cell_type": "code",
      "source": [
        "# Drop rows with more than 2 NaN values\n",
        "df_dropped = df[df.isna().sum(axis=1) <= 2]\n",
        "\n",
        "# Shape after dropping\n",
        "print(\"Remaining samples after dropping:\", df_dropped.shape[0])\n"
      ],
      "metadata": {
        "colab": {
          "base_uri": "https://localhost:8080/"
        },
        "id": "KE3oe1AKiymh",
        "outputId": "827bf915-9ad7-4db0-fc4e-28ee9a62f3d1"
      },
      "execution_count": null,
      "outputs": [
        {
          "output_type": "stream",
          "name": "stdout",
          "text": [
            "Remaining samples after dropping: 9917\n"
          ]
        }
      ]
    },
    {
      "cell_type": "code",
      "source": [
        "# Drop all rows with any NaN values\n",
        "df_dropped = df.dropna()\n",
        "\n",
        "# Show how many rows remain\n",
        "print(\"Number of rows remaining after dropping rows with NaN:\", df_dropped.shape[0])\n",
        "\n",
        "# (Optional) also show how many rows were dropped\n",
        "print(\"Number of rows dropped:\", df.shape[0] - df_dropped.shape[0])\n"
      ],
      "metadata": {
        "colab": {
          "base_uri": "https://localhost:8080/"
        },
        "id": "HMbTtRioi69T",
        "outputId": "518b8c91-36c4-44f1-cf6d-665e54ef8382"
      },
      "execution_count": null,
      "outputs": [
        {
          "output_type": "stream",
          "name": "stdout",
          "text": [
            "Number of rows remaining after dropping rows with NaN: 5449\n",
            "Number of rows dropped: 4551\n"
          ]
        }
      ]
    },
    {
      "cell_type": "code",
      "source": [
        "even_rows_df = df.iloc[::2]   # every 2nd row starting at index 0\n"
      ],
      "metadata": {
        "id": "uhhZlNwNjf4B"
      },
      "execution_count": null,
      "outputs": []
    },
    {
      "cell_type": "code",
      "source": [
        "value = even_rows_df.iloc[0, 3]\n",
        "print(\"Value at row 0, column 3 (in even-rows dataframe):\", value)\n"
      ],
      "metadata": {
        "colab": {
          "base_uri": "https://localhost:8080/"
        },
        "id": "WewXrUdZjhAv",
        "outputId": "a95ea29c-824b-4ed1-c3fc-92339930ee4f"
      },
      "execution_count": null,
      "outputs": [
        {
          "output_type": "stream",
          "name": "stdout",
          "text": [
            "Value at row 0, column 3 (in even-rows dataframe): 111440.0\n"
          ]
        }
      ]
    },
    {
      "cell_type": "code",
      "source": [
        "even_rows_df = df.iloc[::2]   # takes rows 0, 2, 4, 6, ... from df\n",
        "value = even_rows_df.iloc[332, 3]\n",
        "print(\"Value at row 332, column 3 (in even-rows dataframe):\", value)\n",
        "\n",
        "# (Optional) also show the column name for clarity\n",
        "col_name = even_rows_df.columns[3]\n",
        "print(f\"Column name: {col_name}, Value: {value}\")\n"
      ],
      "metadata": {
        "colab": {
          "base_uri": "https://localhost:8080/"
        },
        "id": "K7ZUS65CjqxA",
        "outputId": "c85c49b2-ea10-431d-8315-ab27b8ab10ff"
      },
      "execution_count": null,
      "outputs": [
        {
          "output_type": "stream",
          "name": "stdout",
          "text": [
            "Value at row 332, column 3 (in even-rows dataframe): 256200.0\n",
            "Column name: Estimated Value, Value: 256200.0\n"
          ]
        }
      ]
    },
    {
      "cell_type": "code",
      "source": [
        "odd_rows_df = df.iloc[1::2]   # takes rows 1, 3, 5, 7, ... from df\n",
        "value = odd_rows_df.iloc[332, 3]\n",
        "print(\"Value at row 332, column 3 (in odd-rows dataframe):\", value)\n",
        "\n",
        "# (Optional) also show the column name\n",
        "col_name = odd_rows_df.columns[3]\n",
        "print(f\"Column name: {col_name}, Value: {value}\")\n"
      ],
      "metadata": {
        "colab": {
          "base_uri": "https://localhost:8080/"
        },
        "id": "otJsfaNgj2-e",
        "outputId": "e6ec4b66-88c0-4382-8cca-afb6b2eacfac"
      },
      "execution_count": null,
      "outputs": [
        {
          "output_type": "stream",
          "name": "stdout",
          "text": [
            "Value at row 332, column 3 (in odd-rows dataframe): 352940.0\n",
            "Column name: Estimated Value, Value: 352940.0\n"
          ]
        }
      ]
    },
    {
      "cell_type": "code",
      "source": [
        "odd_cols_df = df.iloc[:, 1::2]   # keeps only columns 1, 3, 5, 7, ...\n",
        "value = odd_cols_df.iloc[100, 5]\n",
        "print(\"Value at row 100, column 5 (in odd-columns dataframe):\", value)\n",
        "\n",
        "# (Optional) also print column name for clarity\n",
        "col_name = odd_cols_df.columns[5]\n",
        "print(f\"Column name: {col_name}, Value: {value}\")\n"
      ],
      "metadata": {
        "colab": {
          "base_uri": "https://localhost:8080/"
        },
        "id": "ioL-9lNUkD6n",
        "outputId": "f1dc5d84-689b-4a19-819e-0dd3a1ac794a"
      },
      "execution_count": null,
      "outputs": [
        {
          "output_type": "stream",
          "name": "stdout",
          "text": [
            "Value at row 100, column 5 (in odd-columns dataframe): West\n",
            "Column name: Face, Value: West\n"
          ]
        }
      ]
    },
    {
      "cell_type": "code",
      "source": [
        "even_rows_cols_df = df.iloc[::2, ::2]   # even rows (0,2,4,...) and even cols (0,2,4,...)\n",
        "value = even_rows_cols_df.iloc[255, 3]\n",
        "print(\"Value at row 255, column 3 (in even-rows & even-cols dataframe):\", value)\n",
        "\n",
        "# (Optional) also show the column name for clarity\n",
        "col_name = even_rows_cols_df.columns[3]\n",
        "print(f\"Column name: {col_name}, Value: {value}\")\n"
      ],
      "metadata": {
        "colab": {
          "base_uri": "https://localhost:8080/"
        },
        "id": "YXHfVEzWkNF_",
        "outputId": "292a7577-a58f-4de0-9909-81bfef319137"
      },
      "execution_count": null,
      "outputs": [
        {
          "output_type": "stream",
          "name": "stdout",
          "text": [
            "Value at row 255, column 3 (in even-rows & even-cols dataframe): Detached House\n",
            "Column name: Residential, Value: Detached House\n"
          ]
        }
      ]
    },
    {
      "cell_type": "code",
      "source": [
        "# Unique years in the dataset\n",
        "unique_years = df['Year'].dropna().unique()  # remove NaN if any\n",
        "unique_years_sorted = sorted(unique_years, reverse=True)  # sort descending (most recent first)\n",
        "print(\"Unique years sorted (most recent first):\", unique_years_sorted)\n"
      ],
      "metadata": {
        "colab": {
          "base_uri": "https://localhost:8080/"
        },
        "id": "e5cJUpQzkhOA",
        "outputId": "68a6aea9-d97b-49b7-97b8-225d4c373237"
      },
      "execution_count": null,
      "outputs": [
        {
          "output_type": "stream",
          "name": "stdout",
          "text": [
            "Unique years sorted (most recent first): [np.int64(2022), np.int64(2021), np.int64(2020), np.int64(2019), np.int64(2018), np.int64(2017), np.int64(2016), np.int64(2015), np.int64(2014), np.int64(2013), np.int64(2012), np.int64(2011), np.int64(2010), np.int64(2009)]\n"
          ]
        }
      ]
    },
    {
      "cell_type": "code",
      "source": [
        "most_recent_6_years = unique_years_sorted[:6]\n",
        "print(\"Six most recent years:\", most_recent_6_years)\n",
        "rows_recent_6_years = df[df['Year'].isin(most_recent_6_years)].shape[0]\n",
        "print(\"Number of rows belonging to the six most recent years:\", rows_recent_6_years)\n",
        "\n"
      ],
      "metadata": {
        "colab": {
          "base_uri": "https://localhost:8080/"
        },
        "id": "lD8sxDpzkjLd",
        "outputId": "7d50555a-a237-46a0-9720-2f45d00f3c6f"
      },
      "execution_count": null,
      "outputs": [
        {
          "output_type": "stream",
          "name": "stdout",
          "text": [
            "Six most recent years: [np.int64(2022), np.int64(2021), np.int64(2020), np.int64(2019), np.int64(2018), np.int64(2017)]\n",
            "Number of rows belonging to the six most recent years: 4749\n"
          ]
        }
      ]
    },
    {
      "cell_type": "code",
      "source": [
        "# Filter rows where num_rooms = 3 and num_bathrooms = 3\n",
        "filtered_rows = df[(df['num_rooms'] == 3) & (df['num_bathrooms'] == 3)]\n",
        "\n",
        "# Count the number of such rows\n",
        "num_rows = filtered_rows.shape[0]\n",
        "print(\"Number of rows with num_rooms=3 and num_bathrooms=3:\", num_rows)\n"
      ],
      "metadata": {
        "colab": {
          "base_uri": "https://localhost:8080/"
        },
        "id": "jwp1Lr9WllZ2",
        "outputId": "ff46382e-cd18-41cc-cf55-a5e43933ecf4"
      },
      "execution_count": null,
      "outputs": [
        {
          "output_type": "stream",
          "name": "stdout",
          "text": [
            "Number of rows with num_rooms=3 and num_bathrooms=3: 2730\n"
          ]
        }
      ]
    },
    {
      "cell_type": "code",
      "source": [
        "# Filter rows where num_rooms = 3 OR num_bathrooms = 3\n",
        "filtered_rows = df[(df['num_rooms'] == 3) | (df['num_bathrooms'] == 3)]\n",
        "\n",
        "# Count the number of such rows\n",
        "num_rows = filtered_rows.shape[0]\n",
        "print(\"Number of rows with num_rooms=3 or num_bathrooms=3:\", num_rows)\n"
      ],
      "metadata": {
        "colab": {
          "base_uri": "https://localhost:8080/"
        },
        "id": "s1dD0rp-lydO",
        "outputId": "1b9d3d2a-11d5-43e5-caf4-2811300c2af7"
      },
      "execution_count": null,
      "outputs": [
        {
          "output_type": "stream",
          "name": "stdout",
          "text": [
            "Number of rows with num_rooms=3 or num_bathrooms=3: 8591\n"
          ]
        }
      ]
    },
    {
      "cell_type": "code",
      "source": [
        "# Multiple conditions:\n",
        "# 1. Year == 2022\n",
        "# 2. Locality == 'Greenwich'\n",
        "# 3. num_rooms == 3\n",
        "# 4. Face == 'North' or 'East'\n",
        "\n",
        "filtered_rows = df[\n",
        "    (df['Year'] == 2022) &\n",
        "    (df['Locality'] == 'Greenwich') &\n",
        "    (df['num_rooms'] == 3) &\n",
        "    (df['Face'].isin(['North', 'East']))\n",
        "]\n",
        "\n",
        "# Count the number of rows satisfying all conditions\n",
        "num_houses = filtered_rows.shape[0]\n",
        "print(\"Number of houses satisfying the conditions:\", num_houses)\n"
      ],
      "metadata": {
        "colab": {
          "base_uri": "https://localhost:8080/"
        },
        "id": "r7j7sK9BmDLv",
        "outputId": "0ad5d14e-5c1c-409c-8e8b-7aa5abb7a2aa"
      },
      "execution_count": null,
      "outputs": [
        {
          "output_type": "stream",
          "name": "stdout",
          "text": [
            "Number of houses satisfying the conditions: 42\n"
          ]
        }
      ]
    },
    {
      "cell_type": "code",
      "source": [
        "# Convert Date column to datetime (if not already)\n",
        "df['Date'] = pd.to_datetime(df['Date'], errors='coerce')\n",
        "# Select rows where the month is August\n",
        "august_rows = df[df['Date'].dt.month == 8]\n",
        "\n",
        "# Count the number of rows\n",
        "num_august = august_rows.shape[0]\n",
        "print(\"Number of rows corresponding to August:\", num_august)\n",
        "\n",
        "\n"
      ],
      "metadata": {
        "colab": {
          "base_uri": "https://localhost:8080/"
        },
        "id": "2M3ZJXCjmNd7",
        "outputId": "a905b5fc-8649-459b-c8bd-3ea960d5bedd"
      },
      "execution_count": null,
      "outputs": [
        {
          "output_type": "stream",
          "name": "stdout",
          "text": [
            "Number of rows corresponding to August: 1050\n"
          ]
        }
      ]
    },
    {
      "cell_type": "code",
      "source": [
        "# Group by Locality and calculate mean Sale Price\n",
        "avg_sale_price = df.groupby('Locality')['Sale Price'].mean()\n",
        "\n",
        "# Find the locality with the highest average Sale Price\n",
        "highest_avg_locality = avg_sale_price.idxmax()\n",
        "highest_avg_value = avg_sale_price.max()\n",
        "\n",
        "print(\"Locality with highest average Sale Price:\", highest_avg_locality)\n",
        "print(\"Highest average Sale Price:\", highest_avg_value)\n"
      ],
      "metadata": {
        "colab": {
          "base_uri": "https://localhost:8080/"
        },
        "id": "GzD4YL6pmfx9",
        "outputId": "583f3bb6-7826-4b58-f2fb-bd6612d013e7"
      },
      "execution_count": null,
      "outputs": [
        {
          "output_type": "stream",
          "name": "stdout",
          "text": [
            "Locality with highest average Sale Price: Greenwich\n",
            "Highest average Sale Price: 2270223.539495238\n"
          ]
        }
      ]
    }
  ]
}